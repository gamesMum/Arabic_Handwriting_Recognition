{
  "nbformat": 4,
  "nbformat_minor": 0,
  "metadata": {
    "colab": {
      "name": "Day 43: Arabic_letters_model.ipynb",
      "provenance": [],
      "authorship_tag": "ABX9TyMlv6AkjyLHSKvSZ3f4U09l",
      "include_colab_link": true
    },
    "kernelspec": {
      "name": "python3",
      "display_name": "Python 3"
    }
  },
  "cells": [
    {
      "cell_type": "markdown",
      "metadata": {
        "id": "view-in-github",
        "colab_type": "text"
      },
      "source": [
        "<a href=\"https://colab.research.google.com/github/gamesMum/Arabic_Handwriting_Recognition/blob/master/Day_43_Arabic_letters_model.ipynb\" target=\"_parent\"><img src=\"https://colab.research.google.com/assets/colab-badge.svg\" alt=\"Open In Colab\"/></a>"
      ]
    },
    {
      "cell_type": "markdown",
      "metadata": {
        "id": "Awd4Zv9dcWxj",
        "colab_type": "text"
      },
      "source": [
        "# **Progress**\n",
        "- Experiencing with the Arabic letters recognition project. I wanted to write some letters and test the model.\n",
        "\n",
        "- finished my 9th day of Hacker Rank challenge, the main reason i took it is to get more comfortable with python. I'm loving it honestly\n",
        "Reading articles on OCR and EDA, there is a lot to learn"
      ]
    },
    {
      "cell_type": "code",
      "metadata": {
        "id": "aARyXYptcJ27",
        "colab_type": "code",
        "colab": {}
      },
      "source": [
        ""
      ],
      "execution_count": 0,
      "outputs": []
    }
  ]
}