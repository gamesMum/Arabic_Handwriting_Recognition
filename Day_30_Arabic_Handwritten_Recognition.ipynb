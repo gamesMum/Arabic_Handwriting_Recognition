{
  "nbformat": 4,
  "nbformat_minor": 0,
  "metadata": {
    "colab": {
      "name": "Day 30: Arabic Handwritten Recognition.ipynb",
      "provenance": [],
      "authorship_tag": "ABX9TyM0YSh4Nv6BZvGfzEtgjuZ/",
      "include_colab_link": true
    },
    "kernelspec": {
      "name": "python3",
      "display_name": "Python 3"
    }
  },
  "cells": [
    {
      "cell_type": "markdown",
      "metadata": {
        "id": "view-in-github",
        "colab_type": "text"
      },
      "source": [
        "<a href=\"https://colab.research.google.com/github/gamesMum/Arabic_Handwriting_Recognition/blob/master/Day_30_Arabic_Handwritten_Recognition.ipynb\" target=\"_parent\"><img src=\"https://colab.research.google.com/assets/colab-badge.svg\" alt=\"Open In Colab\"/></a>"
      ]
    },
    {
      "cell_type": "markdown",
      "metadata": {
        "id": "RRsND-MBHFAo",
        "colab_type": "text"
      },
      "source": [
        "# **Progress**\n",
        "\n",
        "- the first stage of the Arabic Handwritten recognition model is almost done.\n",
        "The model now recognizing the handwritten letters with accuracy of 60%, still need to wotk on that and move to the next step where it can actually recognize words and this would need a whole new dataset.\n",
        "\n",
        "- Continue lecture 1 of Reinforcment Learning course \n",
        "https://www.youtube.com/watch?v=2pWv7GOvuf0\n",
        "\n",
        "I'm really enjoying it so far\n",
        "\n",
        "- Reading more about the differences between Chronic and Acute Leukemia and aquiring more knowledge on the gene expression dataset\n"
      ]
    },
    {
      "cell_type": "code",
      "metadata": {
        "id": "4RdIhORFG-uI",
        "colab_type": "code",
        "colab": {}
      },
      "source": [
        ""
      ],
      "execution_count": 0,
      "outputs": []
    }
  ]
}