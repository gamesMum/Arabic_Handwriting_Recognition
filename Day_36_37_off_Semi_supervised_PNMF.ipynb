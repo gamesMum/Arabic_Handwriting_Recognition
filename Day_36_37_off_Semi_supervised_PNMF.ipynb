{
  "nbformat": 4,
  "nbformat_minor": 0,
  "metadata": {
    "colab": {
      "name": "Day 36-37: off_Semi supervised PNMF.ipynb",
      "provenance": [],
      "authorship_tag": "ABX9TyOwktn6njr42foXzkKeynoK",
      "include_colab_link": true
    },
    "kernelspec": {
      "name": "python3",
      "display_name": "Python 3"
    }
  },
  "cells": [
    {
      "cell_type": "markdown",
      "metadata": {
        "id": "view-in-github",
        "colab_type": "text"
      },
      "source": [
        "<a href=\"https://colab.research.google.com/github/gamesMum/Arabic_Handwriting_Recognition/blob/master/Day_36_37_off_Semi_supervised_PNMF.ipynb\" target=\"_parent\"><img src=\"https://colab.research.google.com/assets/colab-badge.svg\" alt=\"Open In Colab\"/></a>"
      ]
    },
    {
      "cell_type": "markdown",
      "metadata": {
        "id": "NKfFx-sGTtH4",
        "colab_type": "text"
      },
      "source": [
        "# **Prograss**\n",
        "- I Took yesterday off. We went to Istanbul to see a friend and it was a great break. I'll attach some photos ;)\n",
        "- Finally finished the summary for the \"Semi(PNF) Cancer Classification\" article and read about some new terminologies.\n",
        "\n",
        "- I managed to make it the last minute and completed day two of HackerRank 30 days of code challange.\n"
      ]
    },
    {
      "cell_type": "code",
      "metadata": {
        "id": "m7OcSe7yTPif",
        "colab_type": "code",
        "colab": {}
      },
      "source": [
        ""
      ],
      "execution_count": 0,
      "outputs": []
    }
  ]
}